{
 "cells": [
  {
   "cell_type": "markdown",
   "metadata": {},
   "source": [
    "## Introduction\n",
    "\n",
    "### In this notebook is explained how a Basic Machine Learning Model works, made by [Pol Jaimejuan Caubet](https://github.com/PolJaimejuanCaubet)\n",
    "\n",
    "#### We demonstrate the process of building and evaluating a basic machine learning model for predicting the results of football matches. We use a decision tree regressor to analyze historical data from the La Liga league, transforming categorical data into numerical features, training the model, and evaluating its performance using Mean Absolute Error (MAE). The notebook covers data preprocessing, model training, and evaluation steps, providing a clear example of how machine learning techniques can be applied to sports analytics. The datasets in this project do not contain much statistical features that would allow us to analizeand accurate predictions. Instead, they serve as a basic example for learning how to apply predictive models. The main point is to practice and understand the process of building and evaluating machine learning models, rather than making highly accurate predictions :)"
   ]
  },
  {
   "cell_type": "markdown",
   "metadata": {},
   "source": [
    "**First of all, we import necessary libraries for our project**\n",
    "- `os`: for work with path files.\n",
    "- `pandas`: for data manipulation as columns, rows, etc.\n",
    "- `train_test_split` from `sklearn.model_selection`: for divide our data to validation and training sets\n",
    "- `DecisionTreeRegressor` de `sklearn.tree`: to create and train our model\n",
    "- `mean_absolute_error` de `sklearn.metrics`: statistical basic metrics.\n",
    "- `LabelEncoder` de `sklearn.preprocessing`: to convert categorical variables to numerical values."
   ]
  },
  {
   "cell_type": "code",
   "execution_count": 2,
   "metadata": {},
   "outputs": [],
   "source": [
    "import os\n",
    "import pandas as pd\n",
    "from sklearn.model_selection import train_test_split\n",
    "from sklearn.tree import DecisionTreeRegressor\n",
    "from sklearn.metrics import mean_absolute_error\n",
    "from sklearn.preprocessing import LabelEncoder"
   ]
  },
  {
   "cell_type": "markdown",
   "metadata": {},
   "source": [
    "**Loading dataset path**\n",
    "\n",
    "Basically we are loading dataset of the matches of La Liga using `pandas` methods. We use `os.path` to obtain the correct path for .csv, that is located in `LeaguesDataset` file."
   ]
  },
  {
   "cell_type": "code",
   "execution_count": 7,
   "metadata": {},
   "outputs": [],
   "source": [
    "current_dir = os.getcwd()\n",
    "league_dataset_path = os.path.join(current_dir, '..', 'LeaguesDataset', 'LaLiga.csv')\n",
    "league_dataset = pd.read_csv(league_dataset_path)\n"
   ]
  },
  {
   "cell_type": "markdown",
   "metadata": {},
   "source": [
    "**Eliminar valores nulos**\n",
    "\n",
    "We delete all dataset rows that contain null values, using `dropna()`, to ensure that our model is not affected by incomplete data."
   ]
  },
  {
   "cell_type": "code",
   "execution_count": 8,
   "metadata": {},
   "outputs": [],
   "source": [
    "league_dataset.dropna(inplace=True)"
   ]
  },
  {
   "cell_type": "markdown",
   "metadata": {},
   "source": [
    "**Convert the 'Date' column to numerical features**\n",
    "\n",
    "The 'Date' column contains information about the date of each match, so we convert it into numerical features (day, month, and year). This is necessary because machine learning models cannot work directly with dates.\n",
    "\n",
    "First, we convert the 'Date' column to a date format, then extract the day, month, and year of each match and save them as new columns. Finally, we delete through `drop()` the 'Date' column.\n"
   ]
  },
  {
   "cell_type": "code",
   "execution_count": null,
   "metadata": {},
   "outputs": [],
   "source": [
    "league_dataset['Date'] = pd.to_datetime(league_dataset['Date'], format='%d/%m/%Y', errors='coerce')\n",
    "league_dataset.dropna(subset=['Date'], inplace=True)\n",
    "league_dataset['Day'] = league_dataset['Date'].dt.day\n",
    "league_dataset['Month'] = league_dataset['Date'].dt.month\n",
    "league_dataset['Year'] = league_dataset['Date'].dt.year\n",
    "league_dataset.drop('Date', axis=1, inplace=True)"
   ]
  },
  {
   "cell_type": "markdown",
   "metadata": {},
   "source": []
  }
 ],
 "metadata": {
  "kernelspec": {
   "display_name": "env",
   "language": "python",
   "name": "python3"
  },
  "language_info": {
   "codemirror_mode": {
    "name": "ipython",
    "version": 3
   },
   "file_extension": ".py",
   "mimetype": "text/x-python",
   "name": "python",
   "nbconvert_exporter": "python",
   "pygments_lexer": "ipython3",
   "version": "3.13.1"
  }
 },
 "nbformat": 4,
 "nbformat_minor": 2
}
